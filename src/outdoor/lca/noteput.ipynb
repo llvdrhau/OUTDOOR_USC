{
 "cells": [
  {
   "cell_type": "code",
   "execution_count": 1,
   "metadata": {},
   "outputs": [
    {
     "name": "stdout",
     "output_type": "stream",
     "text": [
      "Biosphere database already present!!! No setup is needed\n",
      "biosphere3\n",
      "ei_391_c\n"
     ]
    }
   ],
   "source": [
    "import bw2data as bw\n",
    "import bw2io as io\n",
    "\n",
    "bw.projects.set_current(\"outdoor\")\n",
    "io.bw2setup()\n",
    "needs_ei = True\n",
    "for db in bw.databases:\n",
    "    print(db)\n",
    "    if \"ei_\" in db:\n",
    "        needs_ei = False\n",
    "if needs_ei:\n",
    "    eeep = io.SingleOutputEcospold2Importer(\"/home/misc/Documents/ecoinvent 3.9.1_consequential_ecoSpold02/datasets/\", \"ei_391_c\")\n",
    "    eeep.apply_strategies()\n",
    "    eeep.write_database()"
   ]
  },
  {
   "cell_type": "code",
   "execution_count": 2,
   "metadata": {},
   "outputs": [
    {
     "name": "stdout",
     "output_type": "stream",
     "text": [
      "biosphere3\n",
      "ei_391_c\n"
     ]
    }
   ],
   "source": [
    "from lca_calc import LCA_Back\n",
    "lcobj = LCA_Back()"
   ]
  },
  {
   "cell_type": "code",
   "execution_count": 3,
   "metadata": {},
   "outputs": [
    {
     "name": "stdout",
     "output_type": "stream",
     "text": [
      "<class 'bw2data.backends.base.SQLiteBackend'>\n"
     ]
    }
   ],
   "source": [
    "res = lcobj.search(\"group for electricity\")"
   ]
  },
  {
   "cell_type": "code",
   "execution_count": 4,
   "metadata": {},
   "outputs": [
    {
     "name": "stdout",
     "output_type": "stream",
     "text": [
      "['market group for electricity, high voltage' (kilowatt hour, CN-SGCC, None), 'market group for electricity, low voltage' (kilowatt hour, GLO, None), 'market group for electricity, high voltage' (kilowatt hour, RNA, None), 'market group for electricity, low voltage' (kilowatt hour, UCTE, None), 'market group for electricity, high voltage' (kilowatt hour, BR, None), 'market group for electricity, high voltage' (kilowatt hour, ENTSO-E, None), 'market group for electricity, low voltage' (kilowatt hour, RME, None), 'market group for electricity, high voltage' (kilowatt hour, UCTE, None), 'market group for electricity, medium voltage' (kilowatt hour, RAF, None), 'market group for electricity, high voltage' (kilowatt hour, RER, None), 'market group for electricity, low voltage' (kilowatt hour, RER, None), 'market group for electricity, high voltage' (kilowatt hour, Europe without Switzerland, None), 'market group for electricity, high voltage' (kilowatt hour, IN, None), 'market group for electricity, medium voltage' (kilowatt hour, RLA, None), 'market group for electricity, high voltage' (kilowatt hour, RME, None), 'market group for electricity, low voltage' (kilowatt hour, RAF, None), 'market group for electricity, low voltage' (kilowatt hour, BR, None), 'market group for electricity, high voltage' (kilowatt hour, CN, None), 'market group for electricity, high voltage' (kilowatt hour, US, None), 'market group for electricity, low voltage' (kilowatt hour, Europe without Switzerland, None), 'market group for electricity, medium voltage' (kilowatt hour, ENTSO-E, None), 'market group for electricity, medium voltage' (kilowatt hour, Europe without Switzerland, None), 'market group for electricity, low voltage' (kilowatt hour, CN-SGCC, None), 'market group for electricity, high voltage' (kilowatt hour, RLA, None), 'market group for electricity, medium voltage' (kilowatt hour, CN-SGCC, None), 'market group for electricity, medium voltage' (kilowatt hour, RME, None), 'market group for electricity, low voltage' (kilowatt hour, ENTSO-E, None), 'market group for electricity, medium voltage' (kilowatt hour, RNA, None), 'market group for electricity, high voltage' (kilowatt hour, RAF, None), 'market group for electricity, high voltage' (kilowatt hour, CA, None), 'market group for electricity, medium voltage' (kilowatt hour, RER, None), 'market group for electricity, medium voltage' (kilowatt hour, GLO, None), 'market group for electricity, low voltage' (kilowatt hour, US, None), 'market group for electricity, medium voltage' (kilowatt hour, UCTE, None), 'market group for electricity, medium voltage' (kilowatt hour, RAS, None), 'market group for electricity, medium voltage' (kilowatt hour, CN, None), 'market group for electricity, medium voltage' (kilowatt hour, BR, None), 'market group for electricity, low voltage' (kilowatt hour, CN, None), 'market group for electricity, low voltage' (kilowatt hour, RLA, None), 'market group for electricity, high voltage' (kilowatt hour, Canada without Quebec, None), 'market group for electricity, low voltage' (kilowatt hour, Canada without Quebec, None), 'market group for electricity, medium voltage' (kilowatt hour, CA, None), 'market group for electricity, medium voltage' (kilowatt hour, US, None), 'market group for electricity, medium voltage' (kilowatt hour, IN, None), 'market group for electricity, medium voltage' (kilowatt hour, Canada without Quebec, None), 'market group for electricity, high voltage' (kilowatt hour, RAS, None), 'market group for electricity, high voltage' (kilowatt hour, GLO, None), 'market group for electricity, low voltage' (kilowatt hour, RAS, None), 'market group for electricity, low voltage' (kilowatt hour, IN, None), 'market group for electricity, low voltage' (kilowatt hour, RNA, None), 'market group for electricity, low voltage' (kilowatt hour, CA, None)]\n"
     ]
    }
   ],
   "source": [
    "print(res)"
   ]
  }
 ],
 "metadata": {
  "kernelspec": {
   "display_name": ".venv",
   "language": "python",
   "name": "python3"
  },
  "language_info": {
   "codemirror_mode": {
    "name": "ipython",
    "version": 3
   },
   "file_extension": ".py",
   "mimetype": "text/x-python",
   "name": "python",
   "nbconvert_exporter": "python",
   "pygments_lexer": "ipython3",
   "version": "3.10.12"
  }
 },
 "nbformat": 4,
 "nbformat_minor": 2
}
