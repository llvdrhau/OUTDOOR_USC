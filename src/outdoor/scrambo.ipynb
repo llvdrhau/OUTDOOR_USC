{
 "cells": [
  {
   "metadata": {
    "ExecuteTime": {
     "end_time": "2024-08-16T09:31:24.563459Z",
     "start_time": "2024-08-16T09:31:21.486447Z"
    }
   },
   "cell_type": "code",
   "source": [
    "import bw2data as bw\n",
    "import bw2io as io\n",
    "import bw2calc as calc"
   ],
   "outputs": [],
   "execution_count": 1
  },
  {
   "metadata": {
    "ExecuteTime": {
     "end_time": "2024-08-16T09:31:40.917109Z",
     "start_time": "2024-08-16T09:31:40.908296Z"
    }
   },
   "cell_type": "code",
   "source": "bw.projects",
   "outputs": [
    {
     "data": {
      "text/plain": [
       "Brightway2 projects manager with 5 objects:\n",
       "\tcutoff_premise\n",
       "\tdefault\n",
       "\tpremise_report\n",
       "\ttakeoff\n",
       "\ttest\n",
       "Use `projects.report()` to get a report on all projects."
      ]
     },
     "execution_count": 2,
     "metadata": {},
     "output_type": "execute_result"
    }
   ],
   "execution_count": 2
  },
  {
   "metadata": {
    "ExecuteTime": {
     "end_time": "2024-08-16T09:34:07.293261Z",
     "start_time": "2024-08-16T09:32:13.279446Z"
    }
   },
   "cell_type": "code",
   "source": "bw.projects.set_current(\"test\")",
   "outputs": [
    {
     "name": "stdout",
     "output_type": "stream",
     "text": [
      "Applying automatic update: 4.0 migrations filename change\n",
      "Applying automatic update: 4.0 new processed format\n",
      "Updating all LCIA methods\n"
     ]
    },
    {
     "name": "stderr",
     "output_type": "stream",
     "text": [
      "762it [01:30,  8.39it/s]\n"
     ]
    },
    {
     "name": "stdout",
     "output_type": "stream",
     "text": [
      "Updating all LCI databases\n"
     ]
    },
    {
     "name": "stderr",
     "output_type": "stream",
     "text": [
      "2it [00:23, 11.52s/it]\n"
     ]
    }
   ],
   "execution_count": 3
  },
  {
   "metadata": {
    "ExecuteTime": {
     "end_time": "2024-08-16T09:34:43.856759Z",
     "start_time": "2024-08-16T09:34:43.852499Z"
    }
   },
   "cell_type": "code",
   "source": [
    "for d in bw.databases:\n",
    "    print(d)"
   ],
   "outputs": [
    {
     "name": "stdout",
     "output_type": "stream",
     "text": [
      "biosphere3\n",
      "ei_391_c\n"
     ]
    }
   ],
   "execution_count": 4
  },
  {
   "metadata": {
    "ExecuteTime": {
     "end_time": "2024-08-16T11:46:00.851175Z",
     "start_time": "2024-08-16T11:46:00.836350Z"
    }
   },
   "cell_type": "code",
   "source": "print(len([\"Reference Product\", \"Unit\", \"Activity\", \"Region\"]))",
   "outputs": [
    {
     "name": "stdout",
     "output_type": "stream",
     "text": [
      "4\n"
     ]
    }
   ],
   "execution_count": 5
  },
  {
   "metadata": {
    "ExecuteTime": {
     "end_time": "2024-08-16T11:59:15.532766Z",
     "start_time": "2024-08-16T11:59:15.528951Z"
    }
   },
   "cell_type": "code",
   "source": [
    "columns = [\"Reference\", \"Unit\", \"Activity\", \"Region\"]\n",
    "\n",
    "def franmk(**kwargs):\n",
    "    for item in kwargs.items():\n",
    "        if item[0] in columns:\n",
    "            print(\"Yabooooy\", item[1])\n",
    "        else:\n",
    "            print(\"No beuno, no bueno at all: \", item[0], item[1])"
   ],
   "outputs": [],
   "execution_count": 18
  },
  {
   "metadata": {
    "ExecuteTime": {
     "end_time": "2024-08-16T11:59:17.429155Z",
     "start_time": "2024-08-16T11:59:17.425476Z"
    }
   },
   "cell_type": "code",
   "source": "franmk(Reference=\"Frongo\", Unit=\"kWh\", Activity=\"Watts\", Region=\"South\", Zalgo=\"Behind the walls\")",
   "outputs": [
    {
     "name": "stdout",
     "output_type": "stream",
     "text": [
      "Yabooooy Frongo\n",
      "Yabooooy kWh\n",
      "Yabooooy Watts\n",
      "Yabooooy South\n",
      "No beuno, no bueno at all:  Zalgo Behind the walls\n"
     ]
    }
   ],
   "execution_count": 19
  }
 ],
 "metadata": {
  "kernelspec": {
   "display_name": ".venv",
   "language": "python",
   "name": "python3"
  },
  "language_info": {
   "codemirror_mode": {
    "name": "ipython",
    "version": 3
   },
   "file_extension": ".py",
   "mimetype": "text/x-python",
   "name": "python",
   "nbconvert_exporter": "python",
   "pygments_lexer": "ipython3",
   "version": "3.11.8"
  }
 },
 "nbformat": 4,
 "nbformat_minor": 2
}
