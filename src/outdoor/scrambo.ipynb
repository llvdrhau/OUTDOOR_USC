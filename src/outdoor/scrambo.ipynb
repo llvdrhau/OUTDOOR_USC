{
 "cells": [
  {
   "cell_type": "code",
   "execution_count": 1,
   "metadata": {},
   "outputs": [],
   "source": [
    "import networkx as nx\n",
    "from outdoor_core.input_classes.unit_operations.superclasses.process_node import ProcessNode\n",
    "import random as r\n",
    "G = nx.DiGraph()\n",
    "G.add_nodes_from([(\"N1\", {\"demand\": 10}),(\"N2\",{\"demand\": 12}), (\"N3\", {\"demand\": 25}),(\"N4\",{\"demand\": 18})])\n",
    "G.add_edges_from([(\"N1\",\"N3\"),(\"N1\",\"N2\"),(\"N2\",\"N4\"),(\"N2\",\"N3\")])"
   ]
  },
  {
   "cell_type": "code",
   "execution_count": 4,
   "metadata": {},
   "outputs": [
    {
     "name": "stdout",
     "output_type": "stream",
     "text": [
      "[('pretreatment', {'name': None, 'type': None, 'feed': None, 'temperature': None, 'feed_flow_rate': None, 'ffr_unit': None, 'retention_time': None, 'reactor_total_volume': None, 'reactor_working_volume': None, 'reactor_mixing_conditions': None, 'reactor_mixing_rate': None, 'stoichiometry': None, 'conversion_efficiency': None, 'yield': None, 'purity': None, 'total_solids': None, 'total_nitrogen': None, 'carbohydrates': None, 'proteins': None, 'fats': None, 'volatile_solids': None, 'volatile_solidsequipment_purchase_year': None, 'equipment_cost': None, 'economy_of_scale': None, 'maintenance_time': None, 'maintenance_cost': None, 'selling_price': None, 'input_price': None}), ('fermentation', {'name': None, 'type': None, 'feed': None, 'temperature': None, 'feed_flow_rate': None, 'ffr_unit': None, 'retention_time': None, 'reactor_total_volume': None, 'reactor_working_volume': None, 'reactor_mixing_conditions': None, 'reactor_mixing_rate': None, 'stoichiometry': None, 'conversion_efficiency': None, 'yield': None, 'purity': None, 'total_solids': None, 'total_nitrogen': None, 'carbohydrates': None, 'proteins': None, 'fats': None, 'volatile_solids': None, 'volatile_solidsequipment_purchase_year': None, 'equipment_cost': None, 'economy_of_scale': None, 'maintenance_time': None, 'maintenance_cost': None, 'selling_price': None, 'input_price': None}), ('purification', {'name': None, 'type': None, 'feed': None, 'temperature': None, 'feed_flow_rate': None, 'ffr_unit': None, 'retention_time': None, 'reactor_total_volume': None, 'reactor_working_volume': None, 'reactor_mixing_conditions': None, 'reactor_mixing_rate': None, 'stoichiometry': None, 'conversion_efficiency': None, 'yield': None, 'purity': None, 'total_solids': None, 'total_nitrogen': None, 'carbohydrates': None, 'proteins': None, 'fats': None, 'volatile_solids': None, 'volatile_solidsequipment_purchase_year': None, 'equipment_cost': None, 'economy_of_scale': None, 'maintenance_time': None, 'maintenance_cost': None, 'selling_price': None, 'input_price': None}), ('extraction', {'name': None, 'type': None, 'feed': None, 'temperature': None, 'feed_flow_rate': None, 'ffr_unit': None, 'retention_time': None, 'reactor_total_volume': None, 'reactor_working_volume': None, 'reactor_mixing_conditions': None, 'reactor_mixing_rate': None, 'stoichiometry': None, 'conversion_efficiency': None, 'yield': None, 'purity': None, 'total_solids': None, 'total_nitrogen': None, 'carbohydrates': None, 'proteins': None, 'fats': None, 'volatile_solids': None, 'volatile_solidsequipment_purchase_year': None, 'equipment_cost': None, 'economy_of_scale': None, 'maintenance_time': None, 'maintenance_cost': None, 'selling_price': None, 'input_price': None}), ('result', {'name': None, 'type': None, 'feed': None, 'temperature': None, 'feed_flow_rate': None, 'ffr_unit': None, 'retention_time': None, 'reactor_total_volume': None, 'reactor_working_volume': None, 'reactor_mixing_conditions': None, 'reactor_mixing_rate': None, 'stoichiometry': None, 'conversion_efficiency': None, 'yield': None, 'purity': None, 'total_solids': None, 'total_nitrogen': None, 'carbohydrates': None, 'proteins': None, 'fats': None, 'volatile_solids': None, 'volatile_solidsequipment_purchase_year': None, 'equipment_cost': None, 'economy_of_scale': None, 'maintenance_time': None, 'maintenance_cost': None, 'selling_price': None, 'input_price': None})]\n"
     ]
    }
   ],
   "source": [
    "processes = [\"pretreatment\",\"fermentation\",\"purification\",\"extraction\", \"result\"]\n",
    "node_list = []\n",
    "for name in processes:\n",
    "    node_list.append((name,ProcessNode({name:\"nerd\"}).Attributes))\n",
    "print(node_list)"
   ]
  },
  {
   "cell_type": "code",
   "execution_count": null,
   "metadata": {},
   "outputs": [],
   "source": [
    "ferm_process = (\"fermentation\",{\n",
    "    \"type\":\"continuous\",\n",
    "    \"temperature_in\":25,\n",
    "    \"temperature_out\":25,\n",
    "    \"feed_flow_rate\":4.2,\n",
    "    \"ffr_unit\":\"ml/min\",\n",
    "    \"retention_time\":24,\n",
    "    \"reactor_total_volume\":10,\n",
    "    \"reactor_working_volume\":5,\n",
    "    \"reactor_mixing_conditions\":\"continuous\", #Continuous or intermittent\n",
    "    \"reactor_mixing_rate\":None, #if continuous RPM; intermittent Hz\n",
    "    \"stoichiometry\":None, #is this even usable...?\n",
    "    \"conversion_efficiency\":0.98,\n",
    "    \"yield\":0.56,\n",
    "    \"purity\":None,#percentage\n",
    "    \"input_total_solids\":14.4,\n",
    "    \"input_total_nitrogen\":0.061,\n",
    "    \"input_carbohydrates\":None,\n",
    "    \"input_proteins\":None,\n",
    "    \"input_fats\":None,\n",
    "    \"input_volatile_solids\":7.2,\n",
    "    \"output_total_solids\":11.16,\n",
    "    \"output_total_nitrogen\":0,\n",
    "    \"output_carbohydrates\":None,\n",
    "    \"output_proteins\":None,\n",
    "    \"output_fats\":None,\n",
    "    \"output_volatile_solids\":8.92,\n",
    "    \"equipment_purchase_year\":None,\n",
    "    \"equipment_cost\":None,\n",
    "    \"economy_of_scale\":None,\n",
    "    \"maintenance_time\":None,\n",
    "    \"maintenance_cost\":None,\n",
    "    \"selling_price\":None,\n",
    "    \"input_price\":None\n",
    "})\n",
    "ferm_io = (\"fermentation\", {\n",
    "    \"VFA\":(24.24,\"gCOD\"),\n",
    "    \"oxygen\":(0,\"g\"),\n",
    "    \"water\":(7.44,\"l\"),\n",
    "    \"sludge\":(14.4,\"g\"),\n",
    "    \"nitrogen\":(0.061,\"g\"),\n",
    "    \"PHA\":(-3.9,\"g\"),\n",
    "    \"total solids\":(-11.16,\"g\"),\n",
    "    \"VFA\":(-2.96,\"g\"),\n",
    "    \"electricity\":(0.128,\"kWh\"),\n",
    "    \"wastewater\":(-7.44,\"l\")\n",
    "})\n"
   ]
  },
  {
   "cell_type": "code",
   "execution_count": 7,
   "metadata": {},
   "outputs": [
    {
     "ename": "SyntaxError",
     "evalue": "'(' was never closed (283844793.py, line 9)",
     "output_type": "error",
     "traceback": [
      "\u001b[1;36m  Cell \u001b[1;32mIn[7], line 9\u001b[1;36m\u001b[0m\n\u001b[1;33m    G.add_edge(\"extraction\", \"result\", weight=3\u001b[0m\n\u001b[1;37m              ^\u001b[0m\n\u001b[1;31mSyntaxError\u001b[0m\u001b[1;31m:\u001b[0m '(' was never closed\n"
     ]
    }
   ],
   "source": [
    "import matplotlib.pyplot as plt\n",
    "\n",
    "# Create a graph with nodes and edges\n",
    "G = nx.DiGraph()\n",
    "G.add_nodes_from(processes)\n",
    "G.add_edge(\"pretreatment\", \"fermentation\", weight=1)\n",
    "G.add_edge(\"fermentation\", \"purification\", weight=4)\n",
    "G.add_edge(\"fermentation\", \"extraction\", weight=2)\n",
    "G.add_edge(\"extraction\", \"result\", weight=3)\n",
    "G.add_edge(\"purification\", \"result\", weight=5)\n",
    "print(G.nodes.data())\n",
    "# Find the shortest path from node A to node E\n",
    "path = nx.shortest_path(G, \"pretreatment\", \"result\")\n",
    "#print(path)\n",
    "\n",
    "# Create a list of edges in the shortest path\n",
    "path_edges = list(zip(path, path[1:]))\n",
    "\n",
    "# Create a list of all edges, and assign colors based on whether they are in the shortest path or not\n",
    "edge_colors = [\n",
    "    \"red\" if edge in path_edges or tuple(reversed(edge)) in path_edges else \"black\"\n",
    "    for edge in G.edges()\n",
    "]\n",
    "\n",
    "# Visualize the graph\n",
    "pos = nx.spring_layout(G)\n",
    "nx.draw_networkx_nodes(G, pos)\n",
    "nx.draw_networkx_edges(G, pos, edge_color=edge_colors)\n",
    "nx.draw_networkx_labels(G, pos)\n",
    "\"\"\" nx.draw_networkx_edge_labels(\n",
    "    G, pos, edge_labels={(u, v): d[\"weight\"] for u, v, d in G.edges(data=True)}\n",
    ") \"\"\"\n",
    "\n",
    "plt.show()"
   ]
  },
  {
   "cell_type": "code",
   "execution_count": 6,
   "metadata": {},
   "outputs": [],
   "source": [
    "import pickle \n",
    "   \n",
    "# Define student_details dictionary\n",
    "student_details ={ \n",
    "    \"name\" : (\"sathiyajith\", \"nerd\"),\n",
    "    \"rollno\" : 56, \n",
    "    \"cgpa\" : 8.6, \n",
    "    \"phonenumber\" : \"9976770500\"\n",
    "} \n",
    "   \n",
    "# Convert and write JSON object to file\n",
    "with open(\"sample.pkl\", \"wb\") as outfile: \n",
    "    pickle.dump(student_details, outfile)"
   ]
  }
 ],
 "metadata": {
  "kernelspec": {
   "display_name": ".venv",
   "language": "python",
   "name": "python3"
  },
  "language_info": {
   "codemirror_mode": {
    "name": "ipython",
    "version": 3
   },
   "file_extension": ".py",
   "mimetype": "text/x-python",
   "name": "python",
   "nbconvert_exporter": "python",
   "pygments_lexer": "ipython3",
   "version": "3.11.8"
  }
 },
 "nbformat": 4,
 "nbformat_minor": 2
}
