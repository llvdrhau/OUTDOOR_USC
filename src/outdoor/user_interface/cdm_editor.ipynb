{
 "cells": [
  {
   "cell_type": "code",
   "id": "initial_id",
   "metadata": {
    "collapsed": true,
    "ExecuteTime": {
     "end_time": "2025-01-30T00:50:32.400045Z",
     "start_time": "2025-01-30T00:50:31.464743Z"
    }
   },
   "source": [
    "from src.outdoor.user_interface.data.CentralDataManager import CentralDataManager\n",
    "import pickle\n",
    "\n",
    "projectname = \"flippo\"\n",
    "with open(\"data/\" + projectname + \".outdr\", \"rb\") as file:\n",
    "    centralDataManager: CentralDataManager = pickle.load(file)"
   ],
   "outputs": [
    {
     "name": "stdout",
     "output_type": "stream",
     "text": [
      "[    0.00] Initializing mpi-sppy\n"
     ]
    }
   ],
   "execution_count": 1
  },
  {
   "metadata": {
    "ExecuteTime": {
     "end_time": "2025-01-30T00:50:32.407182Z",
     "start_time": "2025-01-30T00:50:32.404686Z"
    }
   },
   "cell_type": "code",
   "source": [
    "for i in centralDataManager.componentData:\n",
    "    print(i.LCA)\n",
    "\n",
    "for item in centralDataManager.componentData:\n",
    "    if \"2e5c24f2-5ba5-4f97-a2d4-c3bf14abc03f\" in item.uid:\n",
    "        print(item.LCA)"
   ],
   "id": "a99451594d0a9098",
   "outputs": [
    {
     "name": "stdout",
     "output_type": "stream",
     "text": [
      "{'Results': {}, 'exchanges': {'c67e51b10fe7c0f53fc02d2d824568b8': {'Reference': 'market for three and five layered board', 'Unit': 'cubic meter', 'Region': 'RER', 'Demand': '12', 'Parameter': 'bw_param_name', 'Type': 'processwithreferenceproduct'}}}\n",
      "{'Results': {}, 'exchanges': {'24792bbc4faca135f7916181187af949': {'Reference': 'market for paper, woodfree, coated', 'Unit': 'kilogram', 'Region': 'RER', 'Demand': '12', 'Parameter': 'bw_param_name', 'Type': 'processwithreferenceproduct'}, '6282c34890fd5aae77b51f34cf2f7683': {'Reference': 'market for paper, woodfree, uncoated', 'Unit': 'kilogram', 'Region': 'RER', 'Demand': '12', 'Parameter': 'bw_param_name', 'Type': 'processwithreferenceproduct'}}}\n",
      "{'Results': {}, 'exchanges': {'984b84b74cca9b2fcbcd30f36a467983': {'Reference': 'goods wagon production', 'Unit': 'unit', 'Region': 'RER', 'Demand': '12', 'Parameter': 'bw_param_name', 'Type': 'processwithreferenceproduct'}}}\n",
      "{'Results': {}, 'exchanges': {'984b84b74cca9b2fcbcd30f36a467983': {'Reference': 'goods wagon production', 'Unit': 'unit', 'Region': 'RER', 'Demand': '444', 'Parameter': 'bw_param_name', 'Type': 'processwithreferenceproduct'}}}\n",
      "{'Results': {}, 'exchanges': {'c67e51b10fe7c0f53fc02d2d824568b8': {'Reference': 'market for three and five layered board', 'Unit': 'cubic meter', 'Region': 'RER', 'Demand': '12', 'Parameter': 'bw_param_name', 'Type': 'processwithreferenceproduct'}}}\n"
     ]
    }
   ],
   "execution_count": 2
  }
 ],
 "metadata": {
  "kernelspec": {
   "display_name": "Python 3",
   "language": "python",
   "name": "python3"
  },
  "language_info": {
   "codemirror_mode": {
    "name": "ipython",
    "version": 2
   },
   "file_extension": ".py",
   "mimetype": "text/x-python",
   "name": "python",
   "nbconvert_exporter": "python",
   "pygments_lexer": "ipython2",
   "version": "2.7.6"
  }
 },
 "nbformat": 4,
 "nbformat_minor": 5
}
