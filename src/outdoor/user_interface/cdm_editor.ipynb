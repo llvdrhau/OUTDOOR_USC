{
 "cells": [
  {
   "cell_type": "code",
   "id": "initial_id",
   "metadata": {
    "collapsed": true,
    "ExecuteTime": {
     "end_time": "2025-01-30T17:04:37.055388Z",
     "start_time": "2025-01-30T17:04:37.047573Z"
    }
   },
   "source": [
    "from src.outdoor.user_interface.data.CentralDataManager import CentralDataManager\n",
    "import pickle\n",
    "\n",
    "projectname = \"japes\"\n",
    "with open(\"data/\" + projectname, \"rb\") as file:\n",
    "    centralDataManager: CentralDataManager = pickle.load(file)"
   ],
   "outputs": [],
   "execution_count": 17
  },
  {
   "metadata": {
    "ExecuteTime": {
     "end_time": "2025-01-30T17:05:10.348392Z",
     "start_time": "2025-01-30T17:05:10.343538Z"
    }
   },
   "cell_type": "code",
   "source": [
    "for item in centralDataManager.componentData:\n",
    "    if \"e0d4db30-2d1c-400d-87c3-8aac033ae63e\" in item.uid:\n",
    "        print(item.name, item.uid, len(item.LCA['exchanges']), len(item.LCA['Results']))"
   ],
   "id": "a99451594d0a9098",
   "outputs": [
    {
     "name": "stdout",
     "output_type": "stream",
     "text": [
      "weakness e0d4db30-2d1c-400d-87c3-8aac033ae63e 1 43\n"
     ]
    }
   ],
   "execution_count": 22
  }
 ],
 "metadata": {
  "kernelspec": {
   "display_name": "Python 3",
   "language": "python",
   "name": "python3"
  },
  "language_info": {
   "codemirror_mode": {
    "name": "ipython",
    "version": 2
   },
   "file_extension": ".py",
   "mimetype": "text/x-python",
   "name": "python",
   "nbconvert_exporter": "python",
   "pygments_lexer": "ipython2",
   "version": "2.7.6"
  }
 },
 "nbformat": 4,
 "nbformat_minor": 5
}
