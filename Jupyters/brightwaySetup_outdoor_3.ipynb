{
 "cells": [
  {
   "cell_type": "code",
   "metadata": {
    "ExecuteTime": {
     "end_time": "2025-01-29T13:01:52.024691Z",
     "start_time": "2025-01-29T12:56:24.494536Z"
    }
   },
   "source": [
    "import bw2data as bw\n",
    "import bw2io as io\n",
    "\n",
    "bw.projects\n",
    "bw.projects.set_current(\"superstructure\")\n",
    "io.import_ecoinvent_release(version=\"3.9.1\", system_model=\"consequential\",\n",
    "                            username=\"ACV_IIT\",password=\"Ecoinvent123\")"
   ],
   "outputs": [
    {
     "name": "stdout",
     "output_type": "stream",
     "text": [
      "Applying strategy: normalize_units\n",
      "Applying strategy: drop_unspecified_subcategories\n",
      "Applying strategy: ensure_categories_are_tuples\n",
      "Applied 3 strategies in 0.02 seconds\n",
      "4718 datasets\n",
      "\t0 exchanges\n",
      "\tLinks to the following databases:\n",
      "\n",
      "\t0 unlinked exchanges (0 types)\n",
      "\t\t\n"
     ]
    },
    {
     "name": "stderr",
     "output_type": "stream",
     "text": [
      "100%|██████████| 4718/4718 [00:00<00:00, 29341.80it/s]\n"
     ]
    },
    {
     "name": "stdout",
     "output_type": "stream",
     "text": [
      "13:56:45 [info     ] Vacuuming database            \n",
      "Created database: ecoinvent-3.9.1-biosphere\n",
      "Extracting XML data from 18856 datasets\n",
      "Extracted 18856 datasets in 89.90 seconds\n",
      "Applying strategy: normalize_units\n",
      "Applying strategy: update_ecoinvent_locations\n",
      "Applying strategy: remove_zero_amount_coproducts\n",
      "Applying strategy: remove_zero_amount_inputs_with_no_activity\n",
      "Applying strategy: remove_unnamed_parameters\n",
      "Applying strategy: es2_assign_only_product_with_amount_as_reference_product\n",
      "Applying strategy: assign_single_product_as_activity\n",
      "Applying strategy: create_composite_code\n",
      "Applying strategy: drop_unspecified_subcategories\n",
      "Applying strategy: fix_ecoinvent_flows_pre35\n",
      "Applying strategy: drop_temporary_outdated_biosphere_flows\n",
      "Applying strategy: link_biosphere_by_flow_uuid\n",
      "Applying strategy: link_internal_technosphere_by_composite_code\n",
      "Applying strategy: delete_exchanges_missing_activity\n",
      "Applying strategy: delete_ghost_exchanges\n",
      "Applying strategy: remove_uncertainty_from_negative_loss_exchanges\n",
      "Applying strategy: fix_unreasonably_high_lognormal_uncertainties\n",
      "Applying strategy: convert_activity_parameters_to_list\n",
      "Applying strategy: add_cpc_classification_from_single_reference_product\n",
      "Applying strategy: delete_none_synonyms\n",
      "Applying strategy: update_social_flows_in_older_consequential\n",
      "Applying strategy: set_lognormal_loc_value\n",
      "Applied 22 strategies in 5.73 seconds\n",
      "18856 datasets\n",
      "\t547208 exchanges\n",
      "\tLinks to the following databases:\n",
      "\t\tecoinvent-3.9.1-biosphere (317013 exchanges)\n",
      "\t\tecoinvent-3.9.1-consequential (230195 exchanges)\n",
      "\t0 unlinked exchanges (0 types)\n",
      "\t\t\n",
      "13:58:30 [warning  ] Not able to determine geocollections for all datasets. This database is not ready for regionalization.\n"
     ]
    },
    {
     "name": "stderr",
     "output_type": "stream",
     "text": [
      "100%|██████████| 18856/18856 [00:42<00:00, 447.09it/s]\n"
     ]
    },
    {
     "name": "stdout",
     "output_type": "stream",
     "text": [
      "13:59:12 [info     ] Vacuuming database            \n",
      "Created database: ecoinvent-3.9.1-consequential\n"
     ]
    }
   ],
   "execution_count": 1
  },
  {
   "metadata": {
    "ExecuteTime": {
     "end_time": "2025-01-29T12:51:52.981427Z",
     "start_time": "2025-01-29T12:51:38.451887Z"
    }
   },
   "cell_type": "code",
   "source": [
    "del bw.databases[\"ecoinvent-3.9.1-consequential\"]\n",
    "del bw.databases[\"outdoor\"]"
   ],
   "outputs": [
    {
     "name": "stdout",
     "output_type": "stream",
     "text": [
      "13:51:38 [info     ] Vacuuming database            \n"
     ]
    },
    {
     "ename": "RuntimeError",
     "evalue": "dictionary changed size during iteration",
     "output_type": "error",
     "traceback": [
      "\u001B[1;31m---------------------------------------------------------------------------\u001B[0m",
      "\u001B[1;31mRuntimeError\u001B[0m                              Traceback (most recent call last)",
      "Cell \u001B[1;32mIn[13], line 3\u001B[0m\n\u001B[0;32m      1\u001B[0m dbs \u001B[38;5;241m=\u001B[39m bw\u001B[38;5;241m.\u001B[39mdatabases\n\u001B[1;32m----> 3\u001B[0m \u001B[38;5;28;01mfor\u001B[39;00m d \u001B[38;5;129;01min\u001B[39;00m dbs:\n\u001B[0;32m      4\u001B[0m     \u001B[38;5;28;01mdel\u001B[39;00m bw\u001B[38;5;241m.\u001B[39mdatabases[d]\n",
      "\u001B[1;31mRuntimeError\u001B[0m: dictionary changed size during iteration"
     ]
    }
   ],
   "execution_count": 13
  },
  {
   "cell_type": "code",
   "metadata": {
    "ExecuteTime": {
     "end_time": "2025-01-29T12:36:39.000015Z",
     "start_time": "2025-01-29T12:36:38.921894Z"
    }
   },
   "source": "bw.projects.set_current(\"outdoor_2\")",
   "outputs": [],
   "execution_count": 3
  },
  {
   "cell_type": "code",
   "metadata": {
    "ExecuteTime": {
     "end_time": "2025-01-29T12:37:00.244539Z",
     "start_time": "2025-01-29T12:37:00.239601Z"
    }
   },
   "source": "bw.databases",
   "outputs": [
    {
     "data": {
      "text/plain": [
       "Databases dictionary with 3 object(s):\n",
       "\tecoinvent-3.9.1-biosphere\n",
       "\tecoinvent-3.9.1-consequential\n",
       "\toutdoor"
      ]
     },
     "execution_count": 5,
     "metadata": {},
     "output_type": "execute_result"
    }
   ],
   "execution_count": 5
  },
  {
   "metadata": {
    "ExecuteTime": {
     "end_time": "2025-01-29T12:41:50.796601Z",
     "start_time": "2025-01-29T12:40:08.996911Z"
    }
   },
   "cell_type": "code",
   "source": [
    "\n",
    "bw.projects.migrate_project_25()"
   ],
   "outputs": [
    {
     "name": "stdout",
     "output_type": "stream",
     "text": [
      "13:40:09 [info     ] Updating all LCIA methods     \n"
     ]
    },
    {
     "name": "stderr",
     "output_type": "stream",
     "text": [
      "762it [01:20,  9.44it/s]\n"
     ]
    },
    {
     "name": "stdout",
     "output_type": "stream",
     "text": [
      "13:41:29 [info     ] Updating all LCI databases    \n"
     ]
    },
    {
     "name": "stderr",
     "output_type": "stream",
     "text": [
      "3it [00:21,  7.01s/it]\n"
     ]
    }
   ],
   "execution_count": 6
  },
  {
   "metadata": {
    "ExecuteTime": {
     "end_time": "2025-01-29T12:48:51.388678Z",
     "start_time": "2025-01-29T12:48:51.376581Z"
    }
   },
   "cell_type": "code",
   "source": [
    "midpoint = [m for m in bw.methods if \"ReCiPe 2016 v1.03, midpoint (H)\" in str(m) and not \"no LT\" in str(m)]\n",
    "endpoints = [m for m in bw.methods if \"ReCiPe 2016 v1.03, endpoint (H)\" in str(m) and not \"no LT\" in str(m)]\n",
    "points = midpoint + endpoints"
   ],
   "outputs": [],
   "execution_count": 8
  },
  {
   "metadata": {
    "ExecuteTime": {
     "end_time": "2025-01-29T12:49:24.602879Z",
     "start_time": "2025-01-29T12:49:24.539148Z"
    }
   },
   "cell_type": "code",
   "source": [
    "\n",
    "for item in midpoint:\n",
    "    print(item)"
   ],
   "outputs": [
    {
     "name": "stdout",
     "output_type": "stream",
     "text": [
      "('ReCiPe 2016 v1.03, midpoint (H)', 'acidification: terrestrial', 'terrestrial acidification potential (TAP)')\n",
      "('ReCiPe 2016 v1.03, midpoint (H)', 'climate change', 'global warming potential (GWP100)')\n",
      "('ReCiPe 2016 v1.03, midpoint (H)', 'ecotoxicity: freshwater', 'freshwater ecotoxicity potential (FETP)')\n",
      "('ReCiPe 2016 v1.03, midpoint (H)', 'ecotoxicity: marine', 'marine ecotoxicity potential (METP)')\n",
      "('ReCiPe 2016 v1.03, midpoint (H)', 'ecotoxicity: terrestrial', 'terrestrial ecotoxicity potential (TETP)')\n",
      "('ReCiPe 2016 v1.03, midpoint (H)', 'energy resources: non-renewable, fossil', 'fossil fuel potential (FFP)')\n",
      "('ReCiPe 2016 v1.03, midpoint (H)', 'eutrophication: freshwater', 'freshwater eutrophication potential (FEP)')\n",
      "('ReCiPe 2016 v1.03, midpoint (H)', 'eutrophication: marine', 'marine eutrophication potential (MEP)')\n",
      "('ReCiPe 2016 v1.03, midpoint (H)', 'human toxicity: carcinogenic', 'human toxicity potential (HTPc)')\n",
      "('ReCiPe 2016 v1.03, midpoint (H)', 'human toxicity: non-carcinogenic', 'human toxicity potential (HTPnc)')\n",
      "('ReCiPe 2016 v1.03, midpoint (H)', 'ionising radiation', 'ionising radiation potential (IRP)')\n",
      "('ReCiPe 2016 v1.03, midpoint (H)', 'land use', 'agricultural land occupation (LOP)')\n",
      "('ReCiPe 2016 v1.03, midpoint (H)', 'material resources: metals/minerals', 'surplus ore potential (SOP)')\n",
      "('ReCiPe 2016 v1.03, midpoint (H)', 'ozone depletion', 'ozone depletion potential (ODPinfinite)')\n",
      "('ReCiPe 2016 v1.03, midpoint (H)', 'particulate matter formation', 'particulate matter formation potential (PMFP)')\n",
      "('ReCiPe 2016 v1.03, midpoint (H)', 'photochemical oxidant formation: human health', 'photochemical oxidant formation potential: humans (HOFP)')\n",
      "('ReCiPe 2016 v1.03, midpoint (H)', 'photochemical oxidant formation: terrestrial ecosystems', 'photochemical oxidant formation potential: ecosystems (EOFP)')\n",
      "('ReCiPe 2016 v1.03, midpoint (H)', 'water use', 'water consumption potential (WCP)')\n"
     ]
    }
   ],
   "execution_count": 11
  },
  {
   "metadata": {},
   "cell_type": "code",
   "outputs": [],
   "execution_count": null,
   "source": ""
  }
 ],
 "metadata": {
  "kernelspec": {
   "display_name": ".venv",
   "language": "python",
   "name": "python3"
  },
  "language_info": {
   "codemirror_mode": {
    "name": "ipython",
    "version": 3
   },
   "file_extension": ".py",
   "mimetype": "text/x-python",
   "name": "python",
   "nbconvert_exporter": "python",
   "pygments_lexer": "ipython3",
   "version": "3.11.8"
  }
 },
 "nbformat": 4,
 "nbformat_minor": 2
}
