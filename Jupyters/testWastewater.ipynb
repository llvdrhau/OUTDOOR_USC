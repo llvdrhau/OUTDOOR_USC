{
 "cells": [
  {
   "metadata": {},
   "cell_type": "code",
   "outputs": [],
   "execution_count": null,
   "source": [
    "import bw2io as io\n",
    "import bw2calc as bc\n",
    "import bw2data as bw\n",
    "import pandas as pd"
   ],
   "id": "b411ca93deb1ccb2"
  },
  {
   "metadata": {},
   "cell_type": "code",
   "outputs": [],
   "execution_count": null,
   "source": [
    "bw.projects.set_current(\"superstructure\")\n",
    "bios = bw.Database(\"ecoinvent-3.9.1-biosphere\")\n",
    "eidb = bw.Database(\"ecoinvent-3.9.1-consequential\")"
   ],
   "id": "fc5f1314d56688a1"
  },
  {
   "metadata": {},
   "cell_type": "code",
   "outputs": [],
   "execution_count": null,
   "source": [
    "midpoint = [m for m in bw.methods if\n",
    "                    \"ReCiPe 2016 v1.03, midpoint (H)\" in str(m) and not \"no LT\" in str(m)]\n",
    "endpoints = [m for m in bw.methods if\n",
    "                     \"ReCiPe 2016 v1.03, endpoint (H)\" in str(m) and not \"no LT\" in str(m) and \"total\" in str(m)]\n",
    "methodconfs = midpoint + endpoints"
   ],
   "id": "66bdc05241f6d31f"
  },
  {
   "metadata": {},
   "cell_type": "code",
   "outputs": [],
   "execution_count": null,
   "source": [
    "for e in methodconfs:\n",
    "    ## use --> print(e[2],\"|\", bw.Method(e).metadata.get(\"unit\"))\n",
    "    #print(e[3],\"|\", bw.Method(e).metadata.get(\"unit\"))\n",
    "    abbr = \"\"\n",
    "    if \"midpoint\" in str(e):\n",
    "        abbr = (e[3].split(\"(\")[1].split(\")\")[0])\n",
    "    if \"endpoint\" in str(e):\n",
    "        abbr = (e[3])\n",
    "\n",
    "    print(e[2],\"|\",abbr, \"|\", bw.Method(e).metadata.get(\"unit\"))"
   ],
   "id": "b7c9885f0f7fccd0"
  },
  {
   "metadata": {},
   "cell_type": "code",
   "outputs": [],
   "execution_count": null,
   "source": [
    "was = [m for m in eidb if m[\"code\"] == \"b0043a9ba35dea3f767abb1cf200032f\"]\n",
    "print(was[0])"
   ],
   "id": "1322a0e8fe4e99d3"
  },
  {
   "metadata": {},
   "cell_type": "code",
   "outputs": [],
   "execution_count": null,
   "source": [
    "satan = [{was[0]:1000}]\n",
    "\n",
    "calcsetup = {\"inv\":satan,\"ia\":methodconfs}"
   ],
   "id": "39b237809fd6cb22"
  },
  {
   "metadata": {},
   "cell_type": "code",
   "outputs": [],
   "execution_count": null,
   "source": [
    "bw.calculation_setups[\"set\"] = calcsetup\n",
    "mlca = bc.MultiLCA(\"set\")"
   ],
   "id": "570deb790535f1a"
  },
  {
   "metadata": {},
   "cell_type": "code",
   "outputs": [],
   "execution_count": null,
   "source": [
    "indic = []\n",
    "for f in mlca.func_units:\n",
    "    for k in f:\n",
    "        indic.append(k['code'])\n",
    "\n",
    "cols = []\n",
    "for c in mlca.methods:\n",
    "    cols.append(c[3])\n",
    "\n",
    "dfresults = pd.DataFrame(mlca.results, columns=cols, index=indic)"
   ],
   "id": "d527adbb1ffa9f06"
  },
  {
   "metadata": {},
   "cell_type": "code",
   "outputs": [],
   "execution_count": null,
   "source": "dfresults",
   "id": "240329ffa4634281"
  }
 ],
 "metadata": {},
 "nbformat": 5,
 "nbformat_minor": 9
}
